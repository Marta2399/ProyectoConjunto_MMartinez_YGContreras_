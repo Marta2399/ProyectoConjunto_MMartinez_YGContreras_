{
 "cells": [
  {
   "cell_type": "markdown",
   "metadata": {},
   "source": [
    "### ¿Qué espero de la clase ?\n",
    "<font color= orange>\n",
    "De este curso espero\n",
    "- Aprender a más acerca de Python \n",
    "- Saber como simular de manera correcta \n",
    "- Poder determinar el riesgo ante diferente escenarios \n",
    "   "
   ]
  },
  {
   "cell_type": "markdown",
   "metadata": {},
   "source": [
    "###  Resumen del artículo:\n",
    "## PYTHON HA TRAIDO EL LENGUAJE DE PROGRAMACIÓN A UNA NUEVA AUDIENCIA  \n",
    "![python](https://python.rs/pylogo.png) \n",
    "<font color= green>\n",
    "**Python** es uno de los lenguajes de programación que ha tenido **más auge** en los últimos tiempos y se ha convertido en uno de los principales. Este lenguaje lo creo un holandés, Guido van Rossum, en diciembre de 1989. Él quería que su lenguaje fuera simple de leer, también debería permitir a los usuarios crear sus propios paquetes de módulos de codificación de propósito especial, que después podrían estar disponibles para la base de otros programas\n",
    "Su intención no era crearlo para un uso masivo, pero ahora es más buscado en google que Kim Kardashian. El programa no solo ha crecido en uso en los ámbitos laborales, en un 40 %, sino también para todos los usos. \n",
    "Van Rossum se convirtió en líder y el que vigilaba todo este sistema y no le gusta que la gente lo vea como un ídolo, desde hace poco ya decidió deslindarse y dejar que avanzara Python por los demás. \n",
    "Python no es un lenguaje perfecto. Hay otros como C+ que nos ayudan a saber que está pasando en el procesador de la computadora y Java es popular para la creación de aplicaciones largas y complejas. Pero *Python por su lenguaje sencillo , hace que los códigos sean fáciles de compartir y de aprender*, aparte de que tiene una gran versatilidad. Lo utilizan en muchas grandes compañías como Citigroup. Hay que tener cuidado ya que gente que no sepa sobre el tema en profundidad puede llegar a unas conclusiones que no son certeras.\n",
    "Ahora están intentando que Python se convierta en una herramienta que se enseñe a los niños desde la primaria, después va a ir siendo necesaria la especialización pero es una herramienta que nos sería muy útil a todos."
   ]
  },
  {
   "cell_type": "code",
   "execution_count": null,
   "metadata": {},
   "outputs": [],
   "source": []
  }
 ],
 "metadata": {
  "kernelspec": {
   "display_name": "Python 3",
   "language": "python",
   "name": "python3"
  },
  "language_info": {
   "codemirror_mode": {
    "name": "ipython",
    "version": 3
   },
   "file_extension": ".py",
   "mimetype": "text/x-python",
   "name": "python",
   "nbconvert_exporter": "python",
   "pygments_lexer": "ipython3",
   "version": "3.6.5"
  }
 },
 "nbformat": 4,
 "nbformat_minor": 2
}
